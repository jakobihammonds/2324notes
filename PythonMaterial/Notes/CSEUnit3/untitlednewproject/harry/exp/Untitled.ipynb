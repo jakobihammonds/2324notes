{
 "cells": [
  {
   "cell_type": "markdown",
   "id": "647bff8a-840f-422b-b8b5-52a7a1c7d4ca",
   "metadata": {},
   "source": [
    "# Dictionaries\n",
    "this is where you have one variable that is a sequence of data, each data piece is repped by keywords\n",
    "\n",
    "Sequences\n",
    "\n",
    "    -Dict\n",
    "    -list\n",
    "    -string\n",
    "    -tuple\n",
    "    -json\n"
   ]
  },
  {
   "cell_type": "code",
   "execution_count": 6,
   "id": "d70c574a-fd72-4601-877c-6f294dd88d8a",
   "metadata": {},
   "outputs": [
    {
     "ename": "SyntaxError",
     "evalue": "':' expected after dictionary key (3613434222.py, line 25)",
     "output_type": "error",
     "traceback": [
      "\u001b[1;36m  Cell \u001b[1;32mIn[6], line 25\u001b[1;36m\u001b[0m\n\u001b[1;33m    \"Toppings\": \"Lettuce\",\"Tomato\",\"Onion\",\u001b[0m\n\u001b[1;37m                                 ^\u001b[0m\n\u001b[1;31mSyntaxError\u001b[0m\u001b[1;31m:\u001b[0m ':' expected after dictionary key\n"
     ]
    }
   ],
   "source": [
    "groceryList = [\n",
    "    \"tomatoes\",\n",
    "    \"blueberries\",\n",
    "    \"strawberries\",\n",
    "    \"oreos\",\n",
    "    \"chips n queso\",\n",
    "    \"blue bell cookie jar\",\n",
    "    \"coogie\"]\n",
    "item4=groceryList[3]\n",
    "print(item4)\n",
    "for eachItem in groceryList:\n",
    "    print(eachItem)\n",
    "basketballTeam= [\"Stephen Curry\", \"Michael Jordan\", \"Kobe Bryant\", \"Shaquille O'Neal\", \"Lebron James\"]\n",
    "\n",
    "team = {\"PG\": \"Stephen Curry\",\n",
    "        \"C\": \"Shaquille O'Neal\",\n",
    "        \"SF\": \"Kobe Bryant\",\n",
    "        \"SG\": \"Michael Jordan\",\n",
    "        \"PF\": \"Lebron James\",\n",
    "        \"Coach\": \"Steve Kerr\",\n",
    "        \"WB\": \"Schafer\"\n",
    "       }\n",
    "Burg = {\"Bun\": \"Brioche\",\n",
    "        \"Meat\": \"70-30 Angus Ground Beef\",\n",
    "        \"Toppings\": [\"Lettuce\",\"Tomato\",\"Onion\"],\n",
    "        \"Cheese\": True,\n",
    "        \"Sauces\": [\"Ketchup\",\"Mustard\"]\n",
    "        \n",
    "        \n",
    "}"
   ]
  },
  {
   "cell_type": "code",
   "execution_count": 5,
   "id": "1f2455b1-87a3-4176-bdfc-46888708cd09",
   "metadata": {},
   "outputs": [
    {
     "ename": "NameError",
     "evalue": "name 'Burg' is not defined",
     "output_type": "error",
     "traceback": [
      "\u001b[1;31m---------------------------------------------------------------------------\u001b[0m",
      "\u001b[1;31mNameError\u001b[0m                                 Traceback (most recent call last)",
      "Cell \u001b[1;32mIn[5], line 1\u001b[0m\n\u001b[1;32m----> 1\u001b[0m \u001b[38;5;28;01mfor\u001b[39;00m k,v \u001b[38;5;129;01min\u001b[39;00m \u001b[43mBurg\u001b[49m\u001b[38;5;241m.\u001b[39mitems():\n\u001b[0;32m      2\u001b[0m     \u001b[38;5;28mprint\u001b[39m(\u001b[38;5;124mf\u001b[39m\u001b[38;5;124m\"\u001b[39m\u001b[38;5;124mTotal instances of \u001b[39m\u001b[38;5;132;01m{\u001b[39;00mk\u001b[38;5;132;01m}\u001b[39;00m\u001b[38;5;124m: \u001b[39m\u001b[38;5;132;01m{\u001b[39;00mv\u001b[38;5;132;01m}\u001b[39;00m\u001b[38;5;124m\"\u001b[39m)\n",
      "\u001b[1;31mNameError\u001b[0m: name 'Burg' is not defined"
     ]
    }
   ],
   "source": [
    "for k,v in Burg.items():\n",
    "    print(f\"Total instances of {k}: {v}\")"
   ]
  }
 ],
 "metadata": {
  "kernelspec": {
   "display_name": "Python 3 (ipykernel)",
   "language": "python",
   "name": "python3"
  },
  "language_info": {
   "codemirror_mode": {
    "name": "ipython",
    "version": 3
   },
   "file_extension": ".py",
   "mimetype": "text/x-python",
   "name": "python",
   "nbconvert_exporter": "python",
   "pygments_lexer": "ipython3",
   "version": "3.12.0"
  }
 },
 "nbformat": 4,
 "nbformat_minor": 5
}
