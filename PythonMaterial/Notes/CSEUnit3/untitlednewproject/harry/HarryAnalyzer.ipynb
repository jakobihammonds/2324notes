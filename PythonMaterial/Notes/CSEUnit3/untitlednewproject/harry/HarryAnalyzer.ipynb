{
 "cells": [
  {
   "cell_type": "code",
   "execution_count": 22,
   "id": "ba4f16a7-4982-4182-8c41-000918b34ac3",
   "metadata": {},
   "outputs": [],
   "source": [
    "import glob\n",
    "import matplotlib.pyplot as plt"
   ]
  },
  {
   "cell_type": "code",
   "execution_count": 23,
   "id": "1e229f09-26d3-4a45-bdec-e7254db85842",
   "metadata": {},
   "outputs": [],
   "source": [
    "#open a file and print it to the notebook\n",
    "with open(\"OriginalData/Book 1 - The Philosopher's Stone.txt\",\"r\",encoding=\"utf8\") as file:\n",
    "    file=file.readlines()\n",
    "    # print(file)"
   ]
  },
  {
   "cell_type": "code",
   "execution_count": 24,
   "id": "7203bd87-b434-4086-81b7-7620c0245713",
   "metadata": {},
   "outputs": [
    {
     "name": "stdout",
     "output_type": "stream",
     "text": [
      "[\"Book 1 - The Philosopher's Stone\", 'Book 2 - The Chamber of Secrets', 'Book 3 - The Prisoner of Azkaban', 'Book 4 - The Goblet of Fire', 'Book 5 - The Order of the Phoenix', 'Book 6 - The Half Blood Prince', 'Book 7 - The Deathly Hallows']\n"
     ]
    }
   ],
   "source": [
    "#find the names of all of our files\n",
    "books = glob.glob(\"OriginalData/*.txt\")\n",
    "bookList=[]\n",
    "for eachBook in books:\n",
    "    bookList.append(eachBook[eachBook.index(\"B\"):eachBook.index(\".\")])\n",
    "print(bookList)"
   ]
  },
  {
   "cell_type": "code",
   "execution_count": 25,
   "id": "999f7e21-54ed-4ddb-97cd-b245c53fd5a9",
   "metadata": {},
   "outputs": [
    {
     "name": "stdout",
     "output_type": "stream",
     "text": [
      "[0.33530000000000004, 0.3286, 0.3308, 0.3274, 0.31499999999999995, 0.3125, 0.3183]\n"
     ]
    }
   ],
   "source": [
    "#open the file\n",
    "amountComp=[]\n",
    "for i in range(7):\n",
    "    oneBook=bookList[i]\n",
    "    #print(oneBook)\n",
    "    file = open(f\"OriginalData/{oneBook}.txt\",\"r\",encoding=\"utf8\")\n",
    "    file = file.readlines()\n",
    "    #print(len(file))    #original length of the file\n",
    "    \n",
    "    newFile=[]\n",
    "    #remove the \\n\n",
    "    for eachLine in file:\n",
    "        if not eachLine==\"\\n\":\n",
    "            newFile.append(eachLine)\n",
    "        #modify this to add in some clean data\n",
    "\n",
    "    amountComp.append(1-round(len(newFile)/len(file),4))\n",
    "    \n",
    "    #print(len(newFile))   #length of the cleaned File\n",
    "            \n",
    "    #save the file cleaned and resaved as utf8 \n",
    "    cleanFile = open(f\"CleanData/Clean-{oneBook}.txt\",\"w+\",encoding=\"utf8\")\n",
    "    for eachLine in newFile:\n",
    "        cleanFile.write(eachLine)\n",
    "    cleanFile.close()\n",
    "print(amountComp)"
   ]
  },
  {
   "cell_type": "code",
   "execution_count": 27,
   "id": "af077255-9a44-4ed8-a3cc-ab243759068d",
   "metadata": {},
   "outputs": [
    {
     "data": {
      "image/png": "[encoded data removed]",
      "text/plain": [
       "<Figure size 640x480 with 1 Axes>"
      ]
     },
     "metadata": {},
     "output_type": "display_data"
    }
   ],
   "source": [
    "sizes=amountComp\n",
    "\n",
    "bookNumbers=[]\n",
    "#plt.pie(sizes,labels=bookList)\n",
    "for i in range(1,8):\n",
    "    bookNumbers.append(f\"Book {i}\")\n",
    "plt.bar(bookNumbers,amountComp)\n",
    "plt.title(\"Amount Reduced in each Book\")\n",
    "plt.ylim(.3,.35)\n",
    "plt.show()"
   ]
  },
  {
   "cell_type": "markdown",
   "id": "1ff8b32e-30ae-484a-87db-6cccb029c503",
   "metadata": {},
   "source": [
    "# Find these peeps\n",
    "List of Names:\n",
    "\n",
    "    - Harry\n",
    "    - Ron\n",
    "    - Albus\n",
    "    - Draco\n",
    "    - Hermione\n",
    "    - Hagrid\n",
    "<br>Find how many times each person is mentioned in the text of each file.\n",
    "- The finding does not best represent the pool because of the names are sometimes utilizing their last name"
   ]
  },
  {
   "cell_type": "code",
   "execution_count": 32,
   "id": "76514cf6-83f4-4680-80d2-b2fe77ec0a6c",
   "metadata": {},
   "outputs": [],
   "source": [
    "wordToFind={\n",
    "    \"Harry\":0,\n",
    "    \"Ron\":0,\n",
    "    \"Albus\":0,\n",
    "    \"Draco\":0,\n",
    "    \"Hermione\":0,\n",
    "    \"Hagrid\":0\n",
    "}\n"
   ]
  },
  {
   "cell_type": "code",
   "execution_count": 40,
   "id": "6073ebb3-ffdc-42e2-856e-60ed6d727ad4",
   "metadata": {},
   "outputs": [],
   "source": [
    "def ctrlf(oneBook):\n",
    "    file = open(f\"CleanData/Clean-{oneBook}.txt\",\"r\", encoding=\"utf8\")\n",
    "    file = file.readlines()\n",
    "    wordToFind={\n",
    "            \"Harry\":0,\n",
    "            \"Ron\":0,\n",
    "            \"Albus\":0,\n",
    "            \"Draco\":0,\n",
    "            \"Hermione\":0,\n",
    "            \"Hagrid\":0\n",
    "    }\n",
    "    #finding each name\n",
    "    for eachName in wordToFind:\n",
    "         for eachLine in file:\n",
    "              wordsInALine = eachLine.split(\" \")   #return the words in a list\n",
    "              for eachWord in wordsInALine:\n",
    "                   if eachName in eachWord:\n",
    "                        wordToFind[eachName]+=1\n",
    "    #display results\n",
    "    for name,instances in wordToFind.items():\n",
    "         print(f\"Total instances of {name}: {instances}\")"
   ]
  },
  {
   "cell_type": "code",
   "execution_count": 42,
   "id": "2fda460c-eaf4-4b85-ae5e-cae2ca97950b",
   "metadata": {},
   "outputs": [
    {
     "name": "stdout",
     "output_type": "stream",
     "text": [
      " The Philosopher's Stone\n",
      "Total instances of Harry: 1672\n",
      "Total instances of Ron: 454\n",
      "Total instances of Albus: 9\n",
      "Total instances of Draco: 11\n",
      "Total instances of Hermione: 271\n",
      "Total instances of Hagrid: 370\n",
      " The Chamber of Secrets\n",
      "Total instances of Harry: 2032\n",
      "Total instances of Ron: 705\n",
      "Total instances of Albus: 7\n",
      "Total instances of Draco: 34\n",
      "Total instances of Hermione: 321\n",
      "Total instances of Hagrid: 164\n",
      " The Prisoner of Azkaban\n",
      "Total instances of Harry: 2528\n",
      "Total instances of Ron: 791\n",
      "Total instances of Albus: 5\n",
      "Total instances of Draco: 10\n",
      "Total instances of Hermione: 672\n",
      "Total instances of Hagrid: 268\n",
      " The Goblet of Fire\n",
      "Total instances of Harry: 3980\n",
      "Total instances of Ron: 1044\n",
      "Total instances of Albus: 19\n",
      "Total instances of Draco: 23\n",
      "Total instances of Hermione: 872\n",
      "Total instances of Hagrid: 380\n",
      " The Order of the Phoenix\n",
      "Total instances of Harry: 5189\n",
      "Total instances of Ron: 1311\n",
      "Total instances of Albus: 14\n",
      "Total instances of Draco: 26\n",
      "Total instances of Hermione: 1304\n",
      "Total instances of Hagrid: 457\n",
      " The Half Blood Prince\n",
      "Total instances of Harry: 3512\n",
      "Total instances of Ron: 883\n",
      "Total instances of Albus: 18\n",
      "Total instances of Draco: 71\n",
      "Total instances of Hermione: 694\n",
      "Total instances of Hagrid: 231\n",
      " The Deathly Hallows\n",
      "Total instances of Harry: 3991\n",
      "Total instances of Ron: 1185\n",
      "Total instances of Albus: 109\n",
      "Total instances of Draco: 62\n",
      "Total instances of Hermione: 1217\n",
      "Total instances of Hagrid: 168\n"
     ]
    }
   ],
   "source": [
    "cleanBooks=glob.glob(\"CleanData/*.txt\")\n",
    "cleanBooksList=[]\n",
    "for b in books:\n",
    "    cleanBooksList.append(b[b.index(\"-\")+1:b.index(\".\")])\n",
    "#\n",
    "for eachCleanBookName in cleanBooksList:\n",
    "    print(eachCleanBookName)\n",
    "    ctrlf(eachCleanBookName)"
   ]
  }
 ],
 "metadata": {
  "kernelspec": {
   "display_name": "Python 3 (ipykernel)",
   "language": "python",
   "name": "python3"
  },
  "language_info": {
   "codemirror_mode": {
    "name": "ipython",
    "version": 3
   },
   "file_extension": ".py",
   "mimetype": "text/x-python",
   "name": "python",
   "nbconvert_exporter": "python",
   "pygments_lexer": "ipython3",
   "version": "3.12.0"
  }
 },
 "nbformat": 4,
 "nbformat_minor": 5
}
